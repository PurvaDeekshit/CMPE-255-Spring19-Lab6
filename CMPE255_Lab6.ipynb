{
 "cells": [
  {
   "cell_type": "code",
   "execution_count": 19,
   "metadata": {},
   "outputs": [],
   "source": [
    "# To support both python 2 and python 3\n",
    "from __future__ import division, print_function, unicode_literals\n",
    "\n",
    "# Common imports\n",
    "import numpy as np\n",
    "import os\n",
    "\n",
    "# To plot pretty figures\n",
    "%matplotlib inline\n",
    "import matplotlib as mpl\n",
    "import matplotlib.pyplot as plt\n",
    "mpl.rc('axes', labelsize=14)\n",
    "mpl.rc('xtick', labelsize=12)\n",
    "mpl.rc('ytick', labelsize=12)\n",
    "\n",
    "# Where to save the figures\n",
    "PROJECT_ROOT_DIR = \".\"\n",
    "CHAPTER_ID = \"training_linear_models\"\n",
    "\n",
    "def save_fig(fig_id, tight_layout=True):\n",
    "    path = os.path.join(PROJECT_ROOT_DIR, \"images\", CHAPTER_ID, fig_id + \".png\")\n",
    "    print(\"Saving figure\", fig_id)\n",
    "    if tight_layout:\n",
    "        plt.tight_layout()\n",
    "    plt.savefig(path, format='png', dpi=300)\n",
    "\n",
    "# Ignore useless warnings (see SciPy issue #5998)\n",
    "import warnings\n",
    "warnings.filterwarnings(action=\"ignore\", message=\"^internal gelsd\")"
   ]
  },
  {
   "cell_type": "code",
   "execution_count": 20,
   "metadata": {},
   "outputs": [
    {
     "name": "stdout",
     "output_type": "stream",
     "text": [
      "a. Solution: \n",
      "\n",
      "X:  [17.5, 22, 29.5, 44.5, 64.5, 80]\n",
      "y:  [38, 36, 24, 20, 18, 28]\n"
     ]
    }
   ],
   "source": [
    "import numpy as np\n",
    "\n",
    "print(\"a. Solution: \\n\")\n",
    "X = [17.5, 22, 29.5, 44.5, 64.5, 80]\n",
    "print(\"X: \",X)\n",
    "y = [38, 36, 24, 20, 18, 28]\n",
    "print(\"y: \", y)"
   ]
  },
  {
   "cell_type": "code",
   "execution_count": 21,
   "metadata": {},
   "outputs": [
    {
     "name": "stdout",
     "output_type": "stream",
     "text": [
      "b. Solution: \n",
      "\n",
      "Saving figure generated_data_plot\n"
     ]
    },
    {
     "data": {
      "image/png": "[encoded data removed]",
      "text/plain": [
       "<Figure size 432x288 with 1 Axes>"
      ]
     },
     "metadata": {
      "needs_background": "light"
     },
     "output_type": "display_data"
    }
   ],
   "source": [
    "print(\"b. Solution: \\n\")\n",
    "plt.plot(X, y, \"b.\")\n",
    "plt.xlabel(\"$x_1$\", fontsize=20)\n",
    "plt.ylabel(\"$y$\", rotation=0, fontsize=18)\n",
    "plt.axis([15, 90, 15, 40])\n",
    "save_fig(\"generated_data_plot\")\n",
    "plt.show()"
   ]
  },
  {
   "cell_type": "code",
   "execution_count": 22,
   "metadata": {},
   "outputs": [
    {
     "name": "stdout",
     "output_type": "stream",
     "text": [
      "c. Solution: \n",
      "\n",
      "theta_best:  [35.58180453 -0.19182491]\n",
      "ŷ = a + bx form: \n",
      "y =  35.58180452741122 + ( -0.1918249114901835 )x\n"
     ]
    }
   ],
   "source": [
    "print(\"c. Solution: \\n\")\n",
    "X_b = np.c_[np.ones((6, 1)), X]  # add x0 = 1 to each instance\n",
    "theta_best = np.linalg.inv(X_b.T.dot(X_b)).dot(X_b.T).dot(y)\n",
    "print(\"theta_best: \", theta_best)\n",
    "print(\"ŷ = a + bx form: \")\n",
    "print(\"y = \",theta_best[0],\"+\",\"(\",theta_best[1],\")x\")"
   ]
  },
  {
   "cell_type": "code",
   "execution_count": 23,
   "metadata": {},
   "outputs": [
    {
     "name": "stdout",
     "output_type": "stream",
     "text": [
      "d. Solution: \n",
      "\n",
      "y_predict for x = 40 is: 27.908808067803882\n",
      "y_predict for x = 60 is: 24.072309838000212\n",
      "\n",
      "Plotting complete graph: \n",
      "\n",
      "y_complete_predict:  [35.58180453 18.31756249]\n",
      "Saving figure linear_model_predictions\n"
     ]
    },
    {
     "data": {
      "image/png": "[encoded data removed]",
      "text/plain": [
       "<Figure size 432x288 with 1 Axes>"
      ]
     },
     "metadata": {
      "needs_background": "light"
     },
     "output_type": "display_data"
    }
   ],
   "source": [
    "print(\"d. Solution: \\n\")\n",
    "X_new = np.array([[40], [60]])\n",
    "X_new_b = np.c_[np.ones((2, 1)), X_new]  # add x0 = 1 to each instance\n",
    "y_predict = X_new_b.dot(theta_best)\n",
    "print(\"y_predict for x =\", X_new[0][0], \"is:\", y_predict[0])\n",
    "print(\"y_predict for x =\", X_new[1][0], \"is:\", y_predict[1])\n",
    "print(\"\\nPlotting complete graph: \\n\")\n",
    "X_complete = np.array([[0],[90]])\n",
    "X_complete_b = np.c_[np.ones((2, 1)), X_complete]\n",
    "y_complete_predict = X_complete_b.dot(theta_best)\n",
    "print(\"y_complete_predict: \", y_complete_predict)\n",
    "plt.plot(X_complete, y_complete_predict, \"r-\", linewidth=2, label=\"Predictions\")\n",
    "plt.plot(X, y, \"b.\")\n",
    "plt.xlabel(\"$x_1$\", fontsize=18)\n",
    "plt.ylabel(\"$y$\", rotation=0, fontsize=18)\n",
    "plt.legend(loc=\"upper right\", fontsize=14)\n",
    "plt.axis([15, 90, 15, 40])\n",
    "save_fig(\"linear_model_predictions\")\n",
    "plt.show()"
   ]
  },
  {
   "cell_type": "code",
   "execution_count": 24,
   "metadata": {},
   "outputs": [
    {
     "name": "stdout",
     "output_type": "stream",
     "text": [
      "f. Solution: \n",
      "\n",
      "Method 1: \n",
      "\n",
      "X_df:        0\n",
      "0  17.5\n",
      "1  22.0\n",
      "2  29.5\n",
      "3  44.5\n",
      "4  64.5\n",
      "5  80.0\n",
      "\n",
      "intercept:  35.58180452741122\n",
      "coefficient:  [-0.19182491]\n",
      "y_lr_predict:  [27.90880807 24.07230984]\n",
      "correlation coefficient (Pearson's r):  [[ 1.         -0.57874371]\n",
      " [-0.57874371  1.        ]]\n"
     ]
    }
   ],
   "source": [
    "import pandas as pd\n",
    "from sklearn.linear_model import LinearRegression\n",
    "\n",
    "print(\"f. Solution: \\n\")\n",
    "print(\"Method 1: \\n\")\n",
    "X_df = pd.DataFrame(np.array(X).reshape(-1,1))\n",
    "print(\"X_df: \", X_df)\n",
    "lin_reg = LinearRegression()\n",
    "lin_reg.fit(X_df, y)\n",
    "print(\"\\nintercept: \", lin_reg.intercept_)\n",
    "print(\"coefficient: \" , lin_reg.coef_)\n",
    "print(\"y_lr_predict: \", lin_reg.predict(X_new))\n",
    "cc_xy = np.corrcoef(X,y)\n",
    "print(\"correlation coefficient (Pearson's r): \", cc_xy)"
   ]
  },
  {
   "cell_type": "code",
   "execution_count": 25,
   "metadata": {},
   "outputs": [
    {
     "name": "stdout",
     "output_type": "stream",
     "text": [
      "\n",
      "Method 2: \n",
      "\n",
      "correlation coefficient (Pearson's r):  -0.5787437075660629\n",
      "determination coefficient (r^2):  0.3349442790473125\n",
      "population correlation coefficient (p):  0.22880788559284737\n"
     ]
    }
   ],
   "source": [
    "from scipy import stats\n",
    "\n",
    "print(\"\\nMethod 2: \\n\")\n",
    "lin_reg = stats.linregress(X, y)\n",
    "print(\"correlation coefficient (Pearson's r): \", r_value)\n",
    "print(\"determination coefficient (r^2): \", r_value**2)\n",
    "print(\"population correlation coefficient (p): \", p_value)"
   ]
  }
 ],
 "metadata": {
  "kernelspec": {
   "display_name": "Python 3",
   "language": "python",
   "name": "python3"
  },
  "language_info": {
   "codemirror_mode": {
    "name": "ipython",
    "version": 3
   },
   "file_extension": ".py",
   "mimetype": "text/x-python",
   "name": "python",
   "nbconvert_exporter": "python",
   "pygments_lexer": "ipython3",
   "version": "3.7.1"
  }
 },
 "nbformat": 4,
 "nbformat_minor": 2
}
